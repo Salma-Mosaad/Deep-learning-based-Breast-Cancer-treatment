{
 "cells": [
  {
   "cell_type": "code",
   "execution_count": 23,
   "metadata": {},
   "outputs": [],
   "source": [
    "import os\n",
    "import cv2\n",
    "import numpy as np\n",
    "import subprocess\n",
    "from sklearn.model_selection import train_test_split\n",
    "from tensorflow.keras.models import Sequential\n",
    "from tensorflow.keras.layers import Conv2D, MaxPooling2D, Flatten, Dense\n",
    "from tensorflow.keras.utils import to_categorical\n",
    "from sklearn.metrics import confusion_matrixfrom\n",
    "from sklearn.preprocessing import LabelEncoder\n",
    "from sklearn.utils import shuffle\n",
    "\n",
    "#os: This is a built-in Python library used for interacting with the operating system. It is used in this code to change the current working directory.\n",
    "#cv2: This is OpenCV, a popular library for computer vision tasks. It is used here for image processing tasks like reading and resizing images.\n",
    "#numpy: This is a library for numerical computing in Python. It is used here for various array operations.\n",
    "#subprocess: This is a built-in Python library used to spawn new processes, connect to their input/output/error pipes, and obtain their return codes. It is used here to run the convert command from the ImageMagick suite to convert images to grayscale.\n",
    "#sklearn.model_selection: This is a module from scikit-learn, a popular machine learning library in Python. It is used here for splitting the dataset into training and testing sets.\n",
    "#tensorflow.keras.models: This is a module from the Keras API in TensorFlow, a popular deep learning framework. It is used here for defining the CNN model.\n",
    "#tensorflow.keras.layers: This is a module from the Keras API in TensorFlow, used for defining the layers of the CNN model.\n",
    "#tensorflow.keras.utils: This is a module from the Keras API in TensorFlow, used for various utility functions like one-hot encoding of labels.\n",
    "#sklearn.metrics: This is a module from scikit-learn, used for evaluating the performance of the model.\n",
    "#sklearn.preprocessing: This is a module from scikit-learn, used for preprocessing the data.\n",
    "#sklearn.utils: This is a module from scikit-learn, used for various utility functions like shuffling the data.\n",
    "#Overall, this code imports the necessary libraries and modules to build a CNN model for image classification."
   ]
  },
  {
   "cell_type": "code",
   "execution_count": 24,
   "metadata": {},
   "outputs": [],
   "source": [
    "# Step 1: Load and Preprocess Datasets\n",
    "def load_and_preprocess_dataset(dataset_path):\n",
    "    images = []\n",
    "    labels = []\n",
    "\n",
    "    for label in [\"Malignant\", \"Benign\"]:\n",
    "        label_path = os.path.join(dataset_path, label)\n",
    "        for filename in os.listdir(label_path):\n",
    "            img_path = os.path.join(label_path, filename)\n",
    "            img = cv2.imread(img_path, cv2.IMREAD_GRAYSCALE)\n",
    "            img = cv2.resize(img, (100, 100))  # Resize to a standard size\n",
    "            images.append(img)\n",
    "            labels.append(1 if label == \"Malignant\" else 0)  # 1 for Malignant, 0 for Benign\n",
    "\n",
    "    return np.array(images), np.array(labels)\n",
    "\n",
    "dataset1_path = \"C:\\\\Users\\\\Smart\\\\OneDrive\\\\Desktop\\\\Grad. Proj\\\\datasets\\\\breast_cancer_data\\\\US\"\n",
    "dataset2_path = \"C:\\\\Users\\\\Smart\\\\OneDrive\\\\Desktop\\\\Grad. Proj\\\\datasets\\\\breast_cancer_data\\DDSM Dataset\"\n",
    "dataset3_path = \"C:\\\\Users\\\\Smart\\\\OneDrive\\\\Desktop\\\\Grad. Proj\\\\datasets\\\\breast_cancer_data\\\\MRI\"\n",
    "\n",
    "dataset1_images, dataset1_labels = load_and_preprocess_dataset(dataset1_path)\n",
    "dataset2_images, dataset2_labels = load_and_preprocess_dataset(dataset2_path)\n",
    "dataset3_images, dataset3_labels = load_and_preprocess_dataset(dataset3_path)\n"
   ]
  },
  {
   "cell_type": "code",
   "execution_count": 25,
   "metadata": {},
   "outputs": [],
   "source": [
    "# Step 2: Combine and Split Datasets\n",
    "all_images = np.concatenate([dataset1_images, dataset2_images, dataset3_images])\n",
    "all_labels = np.concatenate([dataset1_labels, dataset2_labels, dataset3_labels])\n",
    "\n",
    "X_train, X_test, y_train, y_test = train_test_split(all_images, all_labels, test_size=0.2, random_state=42)"
   ]
  },
  {
   "cell_type": "code",
   "execution_count": 26,
   "metadata": {},
   "outputs": [
    {
     "name": "stdout",
     "output_type": "stream",
     "text": [
      "Epoch 1/10\n",
      "677/677 [==============================] - 77s 111ms/step - loss: 0.9801 - accuracy: 0.7615 - val_loss: 0.3990 - val_accuracy: 0.8000\n",
      "Epoch 2/10\n",
      "677/677 [==============================] - 74s 109ms/step - loss: 0.3175 - accuracy: 0.8438 - val_loss: 0.3263 - val_accuracy: 0.8491\n",
      "Epoch 3/10\n",
      "677/677 [==============================] - 81s 120ms/step - loss: 0.2517 - accuracy: 0.8810 - val_loss: 0.2913 - val_accuracy: 0.8728\n",
      "Epoch 4/10\n",
      "677/677 [==============================] - 68s 100ms/step - loss: 0.1952 - accuracy: 0.9143 - val_loss: 0.2874 - val_accuracy: 0.8848\n",
      "Epoch 5/10\n",
      "677/677 [==============================] - 67s 98ms/step - loss: 0.1694 - accuracy: 0.9307 - val_loss: 0.2814 - val_accuracy: 0.8940\n",
      "Epoch 6/10\n",
      "677/677 [==============================] - 79s 116ms/step - loss: 0.1275 - accuracy: 0.9463 - val_loss: 0.3228 - val_accuracy: 0.8986\n",
      "Epoch 7/10\n",
      "677/677 [==============================] - 77s 114ms/step - loss: 0.1069 - accuracy: 0.9578 - val_loss: 0.2861 - val_accuracy: 0.9152\n",
      "Epoch 8/10\n",
      "677/677 [==============================] - 94s 139ms/step - loss: 0.1047 - accuracy: 0.9611 - val_loss: 0.3463 - val_accuracy: 0.9090\n",
      "Epoch 9/10\n",
      "677/677 [==============================] - 145s 214ms/step - loss: 0.0797 - accuracy: 0.9720 - val_loss: 0.3317 - val_accuracy: 0.9114\n",
      "Epoch 10/10\n",
      "677/677 [==============================] - 138s 205ms/step - loss: 0.0597 - accuracy: 0.9773 - val_loss: 0.3013 - val_accuracy: 0.9239\n"
     ]
    },
    {
     "data": {
      "text/plain": [
       "<keras.src.callbacks.History at 0x1f40aef8b90>"
      ]
     },
     "execution_count": 26,
     "metadata": {},
     "output_type": "execute_result"
    }
   ],
   "source": [
    "# Step 3: Build and Train the CNN Model\n",
    "model = Sequential([\n",
    "    Conv2D(32, (3, 3), activation='relu', input_shape=(100, 100, 1)),\n",
    "    MaxPooling2D((2, 2)),\n",
    "    Conv2D(64, (3, 3), activation='relu'),\n",
    "    MaxPooling2D((2, 2)),\n",
    "    Flatten(),\n",
    "    Dense(64, activation='relu'),\n",
    "    Dense(1, activation='sigmoid')  # Output layer for binary classification\n",
    "])\n",
    "\n",
    "model.compile(optimizer='adam', loss='binary_crossentropy', metrics=['accuracy'])\n",
    "\n",
    "X_train = X_train.reshape(X_train.shape[0], 100, 100, 1)\n",
    "X_test = X_test.reshape(X_test.shape[0], 100, 100, 1)\n",
    "\n",
    "model.fit(X_train, y_train, epochs=10, batch_size=32, validation_data=(X_test, y_test))"
   ]
  },
  {
   "cell_type": "code",
   "execution_count": 27,
   "metadata": {},
   "outputs": [],
   "source": [
    "# Assuming you have predictions from Model 1 and Model 2\n",
    "predictions_model1 = np.array([1, 0, 1, 1, 0, 1, 0, 0, 1, 0])\n",
    "predictions_model2 = np.array([1, 1, 1, 1, 0, 0, 0, 0, 1, 1])\n",
    "\n",
    "# Combine predictions using a fusion method (e.g., voting)\n",
    "fusion_predictions = np.logical_or(predictions_model1, predictions_model2).astype(int)\n",
    "\n",
    "# Assuming ground truth labels\n",
    "ground_truth = np.array([1, 0, 1, 1, 0, 1, 0, 1, 1, 0])\n",
    "\n",
    "# Calculate confusion matrix\n",
    "confusion_mat = confusion_matrix(ground_truth, fusion_predictions)\n"
   ]
  },
  {
   "cell_type": "code",
   "execution_count": 28,
   "metadata": {},
   "outputs": [
    {
     "name": "stdout",
     "output_type": "stream",
     "text": [
      "1/1 [==============================] - 1s 531ms/step\n",
      "The image is predicted as Malignant.\n",
      "Confusion Matrix:\n",
      "[[2 2]\n",
      " [1 5]]\n"
     ]
    }
   ],
   "source": [
    "\n",
    "# Step 4: User Input and Prediction\n",
    "def predict_image(model, image_path):\n",
    "    img = cv2.imread(image_path, cv2.IMREAD_GRAYSCALE)\n",
    "    img = cv2.resize(img, (100, 100))\n",
    "    img = img.reshape(1, 100, 100, 1)\n",
    "    prediction = model.predict(img)\n",
    "    return \"Malignant\" if prediction[0, 0] > 0.5 else \"Benign\"\n",
    "\n",
    "user_input_image_path = \"C:/Users/Smart/OneDrive/Desktop/Grad. Proj/datasets/breast_cancer_data/DDSM Dataset/Malignant/20586934 (17).png\"\n",
    "#\"C:/Users/Smart/OneDrive/Desktop/Grad. Proj/datasets/breast_cancer_data/DDSM Dataset/Benign/20586908 (2).png\"\n",
    "#\"C:\\\\Users\\\\Smart\\\\OneDrive\\\\Desktop\\\\Grad. Proj\\\\datasets\\\\breast_cancer_data\\\\DDSM Dataset\\\\Malignant\\\\20586934 (40).png\"\n",
    "result = predict_image(model, user_input_image_path)\n",
    "print(f\"The image is predicted as {result}.\")\n",
    "print(\"Confusion Matrix:\")\n",
    "print(confusion_mat)"
   ]
  }
 ],
 "metadata": {
  "kernelspec": {
   "display_name": "Python 3",
   "language": "python",
   "name": "python3"
  },
  "language_info": {
   "codemirror_mode": {
    "name": "ipython",
    "version": 3
   },
   "file_extension": ".py",
   "mimetype": "text/x-python",
   "name": "python",
   "nbconvert_exporter": "python",
   "pygments_lexer": "ipython3",
   "version": "3.11.7"
  }
 },
 "nbformat": 4,
 "nbformat_minor": 2
}
